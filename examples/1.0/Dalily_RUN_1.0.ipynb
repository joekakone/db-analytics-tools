{
 "cells": [
  {
   "cell_type": "markdown",
   "metadata": {
    "azdata_cell_guid": "4ed8d0fc-7cd9-41e0-9469-bd52f28aead3",
    "tags": []
   },
   "source": [
    "# ETL with Python"
   ]
  },
  {
   "cell_type": "markdown",
   "metadata": {
    "azdata_cell_guid": "7bfacc40-3781-4860-87e2-8b42c632e63b"
   },
   "source": [
    "## Packages"
   ]
  },
  {
   "cell_type": "code",
   "execution_count": null,
   "metadata": {
    "azdata_cell_guid": "8a338b02-26c3-4ad6-a7e3-239f0772b5f4",
    "language": "python"
   },
   "outputs": [],
   "source": [
    "# !pip install -q psycopg2-binary\n",
    "# !pip install -q pandas\n",
    "\n",
    "from pprint import pprint\n",
    "from getpass import getpass\n",
    "\n",
    "import psycopg2\n",
    "import pandas as pd"
   ]
  },
  {
   "cell_type": "markdown",
   "metadata": {
    "azdata_cell_guid": "4482b01e-8048-42d9-b169-74b5b7596857"
   },
   "source": [
    "## Database Config"
   ]
  },
  {
   "cell_type": "code",
   "execution_count": null,
   "metadata": {
    "azdata_cell_guid": "4d05b6c7-5aaf-4fae-a958-562774cd8223",
    "language": "python"
   },
   "outputs": [],
   "source": [
    "# Database config\n",
    "HOST = '###'\n",
    "PORT = '###'\n",
    "DATABASE = '###'\n",
    "USER = '###'\n",
    "\n",
    "PASSWORD = getpass.getpass('Enter your password: ')"
   ]
  },
  {
   "cell_type": "markdown",
   "metadata": {},
   "source": [
    "## Database Connection"
   ]
  },
  {
   "cell_type": "code",
   "execution_count": null,
   "metadata": {
    "azdata_cell_guid": "b5358471-2675-4984-8feb-36daf3d80d1a",
    "language": "python"
   },
   "outputs": [],
   "source": [
    "conn = psycopg2.connect(host=HOST, \n",
    "                        port=PORT,\n",
    "                        database=DATABASE,\n",
    "                        user=USER, \n",
    "                        password=PASSWORD)\n",
    "\n",
    "cursor = conn.cursor()\n",
    "\n",
    "print('Connection etablished successfully !')"
   ]
  },
  {
   "cell_type": "markdown",
   "metadata": {
    "azdata_cell_guid": "b13cf960-df78-47f1-8666-7574b623a5b2"
   },
   "source": [
    "## SQL Query"
   ]
  },
  {
   "cell_type": "code",
   "execution_count": null,
   "metadata": {
    "azdata_cell_guid": "79de9b53-2bf8-4c28-9a97-0ffd05d6369d",
    "language": "python"
   },
   "outputs": [],
   "source": [
    "# SQL File\n",
    "SQL_QUERY = 'query.sql'\n",
    "\n",
    "with open(SQL_QUERY, 'r') as fp:\n",
    "    query = fp.read()"
   ]
  },
  {
   "cell_type": "markdown",
   "metadata": {
    "azdata_cell_guid": "2c8594ef-6d5a-46de-a04b-3b29fb6374c6"
   },
   "source": [
    "## Dates Config"
   ]
  },
  {
   "cell_type": "code",
   "execution_count": null,
   "metadata": {
    "azdata_cell_guid": "6abbf44c-79f7-4eb3-86b1-9d4260ac1367",
    "language": "python"
   },
   "outputs": [],
   "source": [
    "## Dates to run\n",
    "START = '2020-01-01'\n",
    "STOP = '2020-01-31'"
   ]
  },
  {
   "cell_type": "markdown",
   "metadata": {
    "azdata_cell_guid": "ca59e1f0-292b-450c-9029-3424efd57fd2"
   },
   "source": [
    "## Generate Dates Range"
   ]
  },
  {
   "cell_type": "code",
   "execution_count": null,
   "metadata": {
    "azdata_cell_guid": "a66a4e32-efd9-4332-88ff-fafc57df31b6",
    "language": "python"
   },
   "outputs": [],
   "source": [
    "dates_ranges = list(pd.date_range(start=START, end=STOP, freq='d'))\n",
    "dates_ranges = [dt.strftime('%Y-%m-%d') for dt in dates_ranges]\n",
    "print('Total days:', len(dates_ranges))\n",
    "pprint(dates_ranges[:10])"
   ]
  },
  {
   "cell_type": "markdown",
   "metadata": {
    "azdata_cell_guid": "c3b15e71-0110-4e91-a859-01e541c211e0"
   },
   "source": [
    "## Run Query"
   ]
  },
  {
   "cell_type": "code",
   "execution_count": null,
   "metadata": {
    "azdata_cell_guid": "ff03c09d-6b57-4923-9854-847abe2eb454",
    "language": "python"
   },
   "outputs": [],
   "source": [
    "for dt in dates_ranges:\n",
    "    print(f'[{dt}] ', end='')\n",
    "    %time cursor.execute(query.format(dt))\n",
    "    conn.commit()"
   ]
  },
  {
   "cell_type": "markdown",
   "metadata": {
    "azdata_cell_guid": "09eed0f7-8aa6-4358-a07b-717578793eb2"
   },
   "source": [
    "## Close connection"
   ]
  },
  {
   "cell_type": "code",
   "execution_count": null,
   "metadata": {
    "azdata_cell_guid": "63720544-a978-449a-9e34-3f7253694149",
    "language": "python"
   },
   "outputs": [],
   "source": [
    "# Close connection\n",
    "cursor.close()\n",
    "conn.close()\n",
    "print('Database connection closed.')"
   ]
  }
 ],
 "metadata": {
  "kernelspec": {
   "display_name": "Python 3 (ipykernel)",
   "language": "python",
   "name": "python3"
  },
  "language_info": {
   "codemirror_mode": {
    "name": "ipython",
    "version": 3
   },
   "file_extension": ".py",
   "mimetype": "text/x-python",
   "name": "python",
   "nbconvert_exporter": "python",
   "pygments_lexer": "ipython3",
   "version": "3.9.13"
  }
 },
 "nbformat": 4,
 "nbformat_minor": 4
}
