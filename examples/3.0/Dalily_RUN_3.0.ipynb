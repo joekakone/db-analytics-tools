{
 "cells": [
  {
   "cell_type": "markdown",
   "metadata": {
    "azdata_cell_guid": "4ed8d0fc-7cd9-41e0-9469-bd52f28aead3",
    "tags": []
   },
   "source": [
    "# ETL with Python"
   ]
  },
  {
   "cell_type": "markdown",
   "metadata": {
    "azdata_cell_guid": "7bfacc40-3781-4860-87e2-8b42c632e63b"
   },
   "source": [
    "## Packages"
   ]
  },
  {
   "cell_type": "code",
   "execution_count": null,
   "metadata": {
    "azdata_cell_guid": "8a338b02-26c3-4ad6-a7e3-239f0772b5f4",
    "language": "python",
    "tags": []
   },
   "outputs": [],
   "source": [
    "# !pip install -q psycopg2-binary\n",
    "# !pip install -q pandas\n",
    "\n",
    "import getpass\n",
    "from utils import JobRunner"
   ]
  },
  {
   "cell_type": "markdown",
   "metadata": {
    "azdata_cell_guid": "4482b01e-8048-42d9-b169-74b5b7596857"
   },
   "source": [
    "## Database Config"
   ]
  },
  {
   "cell_type": "code",
   "execution_count": null,
   "metadata": {
    "azdata_cell_guid": "fb1b6267-9737-4f9f-82cb-ec2357491094",
    "language": "python"
   },
   "outputs": [],
   "source": [
    "# Database config\n",
    "HOST = '###'\n",
    "PORT = '###'\n",
    "DATABASE = '###'\n",
    "USER = '###'\n",
    "\n",
    "PASSWORD = getpass.getpass('Enter your password: ')"
   ]
  },
  {
   "cell_type": "markdown",
   "metadata": {},
   "source": [
    "## Database Connection"
   ]
  },
  {
   "cell_type": "code",
   "execution_count": null,
   "metadata": {},
   "outputs": [],
   "source": [
    "runner = JobRunner(host=HOST, port=PORT, database=DATABASE, username=USER, password=PASSWORD)"
   ]
  },
  {
   "cell_type": "markdown",
   "metadata": {
    "azdata_cell_guid": "c3b15e71-0110-4e91-a859-01e541c211e0"
   },
   "source": [
    "## Run Query"
   ]
  },
  {
   "cell_type": "code",
   "execution_count": null,
   "metadata": {
    "azdata_cell_guid": "ff03c09d-6b57-4923-9854-847abe2eb454",
    "language": "python"
   },
   "outputs": [],
   "source": [
    "## Reporting Function\n",
    "FUNCTION = '####'\n",
    "\n",
    "## Dates to run\n",
    "START = '2020-01-01'\n",
    "STOP = '2020-01-31'\n",
    "\n",
    "#  Run queries\n",
    "runner.run(function=FUNCTION, start_date=START, stop_date=STOP)"
   ]
  },
  {
   "cell_type": "markdown",
   "metadata": {
    "azdata_cell_guid": "09eed0f7-8aa6-4358-a07b-717578793eb2"
   },
   "source": [
    "## Close Connection"
   ]
  },
  {
   "cell_type": "code",
   "execution_count": null,
   "metadata": {
    "azdata_cell_guid": "63720544-a978-449a-9e34-3f7253694149",
    "language": "python"
   },
   "outputs": [],
   "source": [
    "# Close connection\n",
    "runner.close()"
   ]
  }
 ],
 "metadata": {
  "kernelspec": {
   "display_name": "Python 3 (ipykernel)",
   "language": "python",
   "name": "python3"
  },
  "language_info": {
   "codemirror_mode": {
    "name": "ipython",
    "version": 3
   },
   "file_extension": ".py",
   "mimetype": "text/x-python",
   "name": "python",
   "nbconvert_exporter": "python",
   "pygments_lexer": "ipython3",
   "version": "3.9.13"
  }
 },
 "nbformat": 4,
 "nbformat_minor": 4
}
